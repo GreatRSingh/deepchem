{
 "cells": [
  {
   "cell_type": "code",
   "execution_count": 1,
   "metadata": {},
   "outputs": [
    {
     "name": "stdout",
     "output_type": "stream",
     "text": [
      "                Step[ FC]     Time          Energy          fmax\n",
      "BFGSLineSearch:    0[  0] 12:30:03       11.689927       1.0797\n",
      "BFGSLineSearch:    1[  2] 12:30:03       11.670814       0.4090\n",
      "BFGSLineSearch:    2[  4] 12:30:03       11.625880       0.0409\n",
      "Adsorption energy: 0.32351942231763786\n"
     ]
    }
   ],
   "source": [
    "from ase import Atoms\n",
    "from ase.build import add_adsorbate, fcc111\n",
    "from ase.calculators.emt import EMT\n",
    "from ase.constraints import FixAtoms\n",
    "from ase.optimize import QuasiNewton\n",
    "\n",
    "h = 1.85\n",
    "d = 1.10\n",
    "\n",
    "slab = fcc111('Cu', size=(4, 4, 2), vacuum=10.0)\n",
    "\n",
    "slab.calc = EMT()\n",
    "e_slab = slab.get_potential_energy()\n",
    "\n",
    "molecule = Atoms('2N', positions=[(0., 0., 0.), (0., 0., d)])\n",
    "molecule.calc = EMT()\n",
    "e_N2 = molecule.get_potential_energy()\n",
    "\n",
    "add_adsorbate(slab, molecule, h, 'ontop')\n",
    "constraint = FixAtoms(mask=[a.symbol != 'N' for a in slab])\n",
    "slab.set_constraint(constraint)\n",
    "dyn = QuasiNewton(slab, trajectory='N2Cu.traj')\n",
    "dyn.run(fmax=0.05)\n",
    "\n",
    "print('Adsorption energy:', e_slab + e_N2 - slab.get_potential_energy())"
   ]
  },
  {
   "cell_type": "markdown",
   "metadata": {},
   "source": [
    "# Getting started with GPAW\n",
    "\n",
    "Author : Rakshit Kr. Singh : [Website](https://blog.greatrsingh.in/) : [LinkedIn](https://www.linkedin.com/in/rakshit-singh-ai/) : [GitHub](https://github.com/GreatRSingh)"
   ]
  },
  {
   "cell_type": "code",
   "execution_count": 55,
   "metadata": {},
   "outputs": [
    {
     "name": "stdout",
     "output_type": "stream",
     "text": [
      "                Step[ FC]     Time          Energy          fmax\n",
      "BFGSLineSearch:    0[  0] 15:27:58        8.805192      78.3340\n",
      "BFGSLineSearch:    1[  1] 15:27:58        1.546114       6.6223\n",
      "BFGSLineSearch:    2[  4] 15:27:58        1.079132       1.1951\n",
      "BFGSLineSearch:    3[  6] 15:27:58        1.070555       0.0491\n",
      "\n",
      "Final Positions:\n",
      " [[ 0.          0.         -0.13979722]\n",
      " [ 0.          0.          0.63979722]]\n"
     ]
    }
   ],
   "source": [
    "# creates: h2.emt.traj\n",
    "from ase import Atoms\n",
    "from ase.calculators.emt import EMT\n",
    "from ase.optimize import QuasiNewton\n",
    "\n",
    "system = Atoms('H2', positions=[[0.0, 0.0, 0.0],\n",
    "                                [0.0, 0.0, 0.5]])\n",
    "calc = EMT()\n",
    "\n",
    "system.calc = calc\n",
    "\n",
    "opt = QuasiNewton(system, trajectory='h2.emt.traj')\n",
    "\n",
    "opt.run()\n",
    "\n",
    "print(\"\\nFinal Positions:\\n\", system.positions)"
   ]
  },
  {
   "cell_type": "code",
   "execution_count": 62,
   "metadata": {},
   "outputs": [],
   "source": [
    "from ase.build import molecule\n",
    "from gpaw import GPAW, PW\n",
    "\n",
    "a = 8.0\n",
    "h = 0.2\n",
    "\n",
    "energies = {}\n",
    "with open(f'results-{h:.2f}.txt', 'w') as resultfile:\n",
    "\n",
    "    for name in ['H2O', 'H', 'O']:\n",
    "        system = molecule(name)\n",
    "        system.set_cell((a, a, a))\n",
    "        system.center()\n",
    "\n",
    "        if name in ['H', 'O']:\n",
    "            hund = True\n",
    "        else:\n",
    "            hund = False\n",
    "        calc = GPAW(mode=PW(350), h=h, hund=hund,\n",
    "                    txt=f'gpaw-{name}-{h:.2f}.txt')\n",
    "\n",
    "        system.calc = calc\n",
    "\n",
    "        energy = system.get_potential_energy()\n",
    "        energies[name] = energy\n",
    "        print(name, energy, file=resultfile)\n",
    "\n",
    "    e_atomization = energies['H2O'] - 2 * energies['H'] - energies['O']\n",
    "    print(e_atomization, file=resultfile)"
   ]
  },
  {
   "cell_type": "code",
   "execution_count": null,
   "metadata": {},
   "outputs": [],
   "source": [
    "H2O -15.253640595828836\n",
    "H -0.8814511312195988\n",
    "O -1.830234131376093\n",
    "-11.660504202013545\n"
   ]
  },
  {
   "cell_type": "code",
   "execution_count": null,
   "metadata": {},
   "outputs": [],
   "source": [
    "H2O -10.94488101486136\n",
    "H -0.8650121187990646\n",
    "O 2.1329098108515128\n",
    "-11.347766588114744\n"
   ]
  },
  {
   "cell_type": "code",
   "execution_count": 64,
   "metadata": {},
   "outputs": [
    {
     "name": "stdout",
     "output_type": "stream",
     "text": [
      "Energy: -4.122151616077782 eV\n"
     ]
    }
   ],
   "source": [
    "\"\"\"Bulk Al(fcc) test\"\"\"\n",
    "from ase import Atoms\n",
    "from ase.visualize import view\n",
    "from gpaw import GPAW, PW\n",
    "\n",
    "name = 'Al-fcc'\n",
    "a = 4.05  # fcc lattice parameter\n",
    "b = a / 2\n",
    "\n",
    "bulk = Atoms('Al',\n",
    "             cell=[[0, b, b],\n",
    "                   [b, 0, b],\n",
    "                   [b, b, 0]],\n",
    "             pbc=True)\n",
    "\n",
    "view(bulk)\n",
    "\n",
    "k = 4\n",
    "calc = GPAW(mode=PW(300),       # cutoff\n",
    "            kpts=(k, k, k),     # k-points\n",
    "            txt=name + '.txt')  # output file\n",
    "\n",
    "bulk.calc = calc\n",
    "\n",
    "energy = bulk.get_potential_energy()\n",
    "calc.write(name + '.gpw')\n",
    "print('Energy:', energy, 'eV')"
   ]
  }
 ],
 "metadata": {
  "kernelspec": {
   "display_name": "cad",
   "language": "python",
   "name": "python3"
  },
  "language_info": {
   "codemirror_mode": {
    "name": "ipython",
    "version": 3
   },
   "file_extension": ".py",
   "mimetype": "text/x-python",
   "name": "python",
   "nbconvert_exporter": "python",
   "pygments_lexer": "ipython3",
   "version": "3.11.11"
  }
 },
 "nbformat": 4,
 "nbformat_minor": 2
}
